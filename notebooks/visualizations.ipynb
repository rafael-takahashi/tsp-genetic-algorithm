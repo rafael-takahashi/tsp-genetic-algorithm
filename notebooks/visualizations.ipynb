{
 "cells": [
  {
   "cell_type": "markdown",
   "id": "056c49b9",
   "metadata": {},
   "source": [
    "## Visualizations\n",
    "\n",
    "This notebook contains visualizations for the gathered data\n",
    "\n",
    "- Threads x Speedup\n",
    "- Threads x Efficiency (+ 100% efficiency line)\n",
    "- Amdahl's law\n",
    "- Overhead bars\n",
    "- Solution quality"
   ]
  },
  {
   "cell_type": "code",
   "execution_count": null,
   "id": "3bd82ba8",
   "metadata": {},
   "outputs": [],
   "source": [
    "import os\n",
    "import matplotlib.pyplot as plt\n",
    "import pandas as pd"
   ]
  },
  {
   "cell_type": "code",
   "execution_count": null,
   "id": "cd492bd7",
   "metadata": {},
   "outputs": [],
   "source": [
    "project_root = os.path.abspath('..')\n",
    "data_path = os.path.join(project_root, 'results', 'data.csv')"
   ]
  },
  {
   "cell_type": "code",
   "execution_count": null,
   "id": "5d2afb73",
   "metadata": {},
   "outputs": [],
   "source": [
    "df = pd.read_csv(data_path)\n",
    "df.head()"
   ]
  },
  {
   "cell_type": "code",
   "execution_count": null,
   "id": "8f53cd2d",
   "metadata": {},
   "outputs": [],
   "source": [
    "instances = df['instance'].unique()\n",
    "thread_counts = sorted(df[df['mode'] == 'parallel']['threads'].unique())"
   ]
  },
  {
   "cell_type": "code",
   "execution_count": null,
   "id": "4558ad3f",
   "metadata": {},
   "outputs": [],
   "source": [
    "grouped = df.groupby(['instance', 'mode', 'threads'], sort=False).agg({\n",
    "    'time_ms': 'mean',\n",
    "    'best_distance': 'mean'\n",
    "}).reset_index()\n",
    "\n",
    "sequential_baselines = grouped[grouped['mode'] == 'sequential'].set_index('instance')['time_ms']\n",
    "\n",
    "grouped['speedup'] = grouped['instance'].map(sequential_baselines) / grouped['time_ms']\n",
    "grouped['efficiency'] = (grouped['speedup'] / grouped['threads']) * 100\n",
    "\n",
    "parallel_data = grouped[grouped['mode'] == 'parallel'].copy()\n",
    "parallel_data['sequential_time'] = parallel_data['instance'].map(sequential_baselines)\n",
    "parallel_data['ideal_time'] = parallel_data['sequential_time'] / parallel_data['threads']\n",
    "parallel_data['overhead'] = parallel_data['time_ms'] - parallel_data['ideal_time']\n",
    "\n",
    "parallel_data.head()"
   ]
  },
  {
   "cell_type": "code",
   "execution_count": null,
   "id": "025df738",
   "metadata": {},
   "outputs": [],
   "source": [
    "fig, ax = plt.subplots(figsize=(10, 6))\n",
    "\n",
    "for instance in instances:\n",
    "    instance_data = parallel_data[parallel_data['instance'] == instance]\n",
    "    \n",
    "    ax.plot(instance_data['threads'], \n",
    "            instance_data['speedup'],\n",
    "            marker='o', \n",
    "            linewidth=2,\n",
    "            markersize=8,\n",
    "            label=instance)\n",
    "\n",
    "ax.set_xlabel('Número de Threads', fontsize=12)\n",
    "ax.set_ylabel('Speedup', fontsize=12)\n",
    "ax.set_title('Speedup vs Número de Threads', fontsize=14)\n",
    "ax.grid(True, alpha=0.3)\n",
    "ax.legend()\n",
    "ax.set_xticks(thread_counts)\n",
    "plt.tight_layout()"
   ]
  },
  {
   "cell_type": "code",
   "execution_count": null,
   "id": "a9b454c1",
   "metadata": {},
   "outputs": [],
   "source": [
    "fig, ax = plt.subplots(figsize=(10, 6))\n",
    "\n",
    "for instance in instances:\n",
    "    instance_data = parallel_data[parallel_data['instance'] == instance]\n",
    "    \n",
    "    ax.plot(instance_data['threads'], \n",
    "            instance_data['efficiency'],\n",
    "            marker='o', \n",
    "            linewidth=2,\n",
    "            markersize=8,\n",
    "            label=instance)\n",
    "    \n",
    "ax.axhline(y=100, \n",
    "        linestyle='--', \n",
    "        linewidth=2,\n",
    "        color='gray', \n",
    "        alpha=0.7,\n",
    "        label='100% Efficiency')\n",
    "\n",
    "ax.set_xlabel('Número de Threads', fontsize=12)\n",
    "ax.set_ylabel('Eficiência', fontsize=12)\n",
    "ax.set_title('Eficiência vs Número de Threads', fontsize=14)\n",
    "ax.grid(True, alpha=0.3)\n",
    "ax.legend()\n",
    "ax.set_xticks(thread_counts)\n",
    "plt.tight_layout()"
   ]
  },
  {
   "cell_type": "code",
   "execution_count": null,
   "id": "312b6590",
   "metadata": {},
   "outputs": [],
   "source": [
    "for instance in instances:\n",
    "    instance_data = parallel_data[parallel_data['instance'] == instance]\n",
    "    \n",
    "    if len(instance_data) == 0:\n",
    "        print(f\"Skipping {instance}: no parallel data\")\n",
    "        continue\n",
    "    \n",
    "    fig, (ax1, ax2) = plt.subplots(1, 2, figsize=(15, 6))\n",
    "    \n",
    "    threads = instance_data['threads'].values\n",
    "    ideal = instance_data['ideal_time'].values\n",
    "    overhead = instance_data['overhead'].values\n",
    "    \n",
    "    x_pos = range(len(threads))\n",
    "    \n",
    "    # ===== PLOT 1: Stacked Bar Chart =====\n",
    "    ax1.bar(x_pos, ideal, label='Tempo Teórico', color='steelblue')\n",
    "    ax1.bar(x_pos, overhead, bottom=ideal, label='Overhead', color='crimson')\n",
    "    \n",
    "    ax1.set_xlabel('Número de Threads', fontsize=12)\n",
    "    ax1.set_ylabel('Tempo de Execução (ms)', fontsize=12)\n",
    "    ax1.set_title(f'{instance} - Distribuição do Tempo', fontsize=13, fontweight='bold')\n",
    "    ax1.legend()\n",
    "    ax1.grid(True, alpha=0.3, axis='y')\n",
    "    ax1.set_xticks(x_pos)\n",
    "    ax1.set_xticklabels(threads)\n",
    "    \n",
    "    # ===== PLOT 2: Overhead Line Graph =====\n",
    "    ax2.plot(threads, overhead,\n",
    "             marker='o',\n",
    "             linewidth=2,\n",
    "             markersize=8,\n",
    "             color='crimson',\n",
    "             label='Overhead')\n",
    "    \n",
    "    ax2.set_xlabel('Número de Threads', fontsize=12)\n",
    "    ax2.set_ylabel('Overhead (ms)', fontsize=12)\n",
    "    ax2.set_title(f'{instance} - Crescimento do Overhead', fontsize=13, fontweight='bold')\n",
    "    ax2.legend()\n",
    "    ax2.grid(True, alpha=0.3)\n",
    "    ax2.set_xticks(threads)\n",
    "    ax2.axhline(y=0, color='gray', linestyle='--', alpha=0.5)\n",
    "    \n",
    "    plt.tight_layout()\n",
    "    plt.show()"
   ]
  },
  {
   "cell_type": "code",
   "execution_count": null,
   "id": "5c3933b3",
   "metadata": {},
   "outputs": [],
   "source": [
    "for instance in instances:\n",
    "    fig, ax = plt.subplots(figsize=(10, 6))\n",
    "    \n",
    "    instance_data = grouped[grouped['instance'] == instance]\n",
    "    seq_data = instance_data[instance_data['mode'] == 'sequential']\n",
    "    par_data = instance_data[instance_data['mode'] == 'parallel']\n",
    "    \n",
    "    seq_distance = seq_data['best_distance'].values[0]\n",
    "    \n",
    "    threads = par_data['threads'].values\n",
    "    par_distances = par_data['best_distance'].values\n",
    "    \n",
    "    x_pos = range(len(threads))\n",
    "    \n",
    "    ax.bar(x_pos, par_distances, color='steelblue', alpha=0.8, label='Paralelo')\n",
    "    \n",
    "    ax.axhline(y=seq_distance, color='crimson', linestyle='--', \n",
    "               linewidth=2, label='Sequencial')\n",
    "    \n",
    "    ax.set_xlabel('Número de Threads', fontsize=12)\n",
    "    ax.set_ylabel('Distância da Solução', fontsize=12)\n",
    "    ax.set_title(f'{instance} - Qualidade da Solução', fontsize=14, fontweight='bold')\n",
    "    ax.grid(True, alpha=0.3, axis='y')\n",
    "    ax.set_xticks(x_pos)\n",
    "    ax.set_xticklabels(threads)\n",
    "    ax.legend(fontsize=11)\n",
    "    \n",
    "    plt.tight_layout()\n",
    "    plt.show()"
   ]
  }
 ],
 "metadata": {
  "kernelspec": {
   "display_name": "venv",
   "language": "python",
   "name": "python3"
  },
  "language_info": {
   "codemirror_mode": {
    "name": "ipython",
    "version": 3
   },
   "file_extension": ".py",
   "mimetype": "text/x-python",
   "name": "python",
   "nbconvert_exporter": "python",
   "pygments_lexer": "ipython3",
   "version": "3.13.7"
  }
 },
 "nbformat": 4,
 "nbformat_minor": 5
}
